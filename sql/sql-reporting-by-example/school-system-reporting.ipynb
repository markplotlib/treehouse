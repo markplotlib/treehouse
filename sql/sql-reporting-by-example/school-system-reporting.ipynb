{
 "cells": [
  {
   "cell_type": "markdown",
   "metadata": {},
   "source": [
    "# Project Overview\n",
    "\n",
    "These exercises are done in SQLite, to demonstrate practice writing simple SQL\n",
    "reports from the perspective of a business analyst at a fictional school,\n",
    "Jefferson Middle School.\n",
    "\n",
    "## Initializing the SQLite database\n",
    "\n",
    "Please see the SQL commands to create this database in the file `school-system-db-setup.sql`,\n",
    "or, alternatively, find it at [this AWS S3 URL](https://s3.amazonaws.com/treehouse-code-samples/sql_reporting_by_example.txt)"
   ]
  },
  {
   "cell_type": "markdown",
   "metadata": {},
   "source": [
    "## Database Overview\n",
    "\n",
    "The database at Jefferson Middle School contains the following seven related tables.\n",
    "\n",
    "```\n",
    "STUDENTS\n",
    "TEACHERS\n",
    "SUBJECTS\n",
    "ROOMS\n",
    "PERIODS\n",
    "CLASSES\n",
    "SCHEDULE\n",
    "```\n",
    "\n",
    "A detailed description can be viewed in the accompanied file `database-details.md`\n",
    "\n",
    "# Grouping Exercises\n",
    "\n",
    "## busiest teachers\n",
    "\n",
    "There are 7 periods at Jefferson Middle School.\n",
    "Which teachers teach a class during all 7 periods?\n",
    "\n",
    "## query result\n",
    "\n",
    "```SQL\n",
    "WITH CLASSES_TEACHERS AS (\n",
    "  SELECT * FROM TEACHERS\n",
    "  JOIN CLASSES ON TEACHERS.ID = CLASSES.TEACHER_ID\n",
    ")\n",
    "SELECT TEACHER_ID,\n",
    "FIRST_NAME, LAST_NAME,\n",
    "COUNT(PERIOD_ID) AS NUM_PERIODS\n",
    "FROM CLASSES_TEACHERS\n",
    "GROUP BY TEACHER_ID\n",
    "HAVING NUM_PERIODS = 7;\n",
    "```\n",
    "\n",
    "## report preview\n",
    "\n",
    "```\n",
    "TEACHER_ID\tFIRST_NAME\tLAST_NAME\tNUM_PERIODS\n",
    "373\tJeffrey\tBastion\t7\n",
    "374\tStanley\tPetrovic\t7\n",
    "375\tIdra\tPatel\t7\n",
    "376\tJessica\tDillon\t7\n",
    "377\tPatricia\tParker\t7\n",
    "```"
   ]
  }
 ],
 "metadata": {
  "kernelspec": {
   "display_name": "Python 3",
   "language": "python",
   "name": "python3"
  },
  "language_info": {
   "codemirror_mode": {
    "name": "ipython",
    "version": 3
   },
   "file_extension": ".py",
   "mimetype": "text/x-python",
   "name": "python",
   "nbconvert_exporter": "python",
   "pygments_lexer": "ipython3",
   "version": "3.6.8"
  }
 },
 "nbformat": 4,
 "nbformat_minor": 2
}
