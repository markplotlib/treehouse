{
 "cells": [
  {
   "cell_type": "markdown",
   "metadata": {},
   "source": [
    "# new notes on (re-)learning NumPy\n",
    "\n",
    "(this time with Treehouse courses)"
   ]
  },
  {
   "cell_type": "markdown",
   "metadata": {},
   "source": [
    "# Unit 1: Meet NumPy\n",
    "\n",
    "## Getting Setup"
   ]
  },
  {
   "cell_type": "code",
   "execution_count": 1,
   "metadata": {},
   "outputs": [
    {
     "data": {
      "text/plain": [
       "'1.14.0'"
      ]
     },
     "execution_count": 1,
     "metadata": {},
     "output_type": "execute_result"
    }
   ],
   "source": [
    "import numpy as np\n",
    "np.__version__"
   ]
  },
  {
   "cell_type": "markdown",
   "metadata": {},
   "source": [
    "## Introducing Arrays"
   ]
  },
  {
   "cell_type": "code",
   "execution_count": 2,
   "metadata": {},
   "outputs": [],
   "source": [
    "gpa_list = [4.0, 3.2, 3.5, 3.9]"
   ]
  },
  {
   "cell_type": "code",
   "execution_count": 3,
   "metadata": {},
   "outputs": [],
   "source": [
    "gpa_array = np.array(gpa_list)"
   ]
  },
  {
   "cell_type": "markdown",
   "metadata": {},
   "source": [
    "NumPy Array help menu"
   ]
  },
  {
   "cell_type": "code",
   "execution_count": 4,
   "metadata": {},
   "outputs": [],
   "source": [
    "?gpa_array"
   ]
  },
  {
   "cell_type": "markdown",
   "metadata": {},
   "source": [
    "### Key Array Attributes"
   ]
  },
  {
   "cell_type": "code",
   "execution_count": 5,
   "metadata": {},
   "outputs": [
    {
     "data": {
      "text/plain": [
       "dtype('float64')"
      ]
     },
     "execution_count": 5,
     "metadata": {},
     "output_type": "execute_result"
    }
   ],
   "source": [
    "gpa_array.dtype"
   ]
  },
  {
   "cell_type": "code",
   "execution_count": 6,
   "metadata": {},
   "outputs": [
    {
     "data": {
      "text/plain": [
       "8"
      ]
     },
     "execution_count": 6,
     "metadata": {},
     "output_type": "execute_result"
    }
   ],
   "source": [
    "gpa_array.itemsize"
   ]
  },
  {
   "cell_type": "code",
   "execution_count": 7,
   "metadata": {},
   "outputs": [
    {
     "data": {
      "text/plain": [
       "4"
      ]
     },
     "execution_count": 7,
     "metadata": {},
     "output_type": "execute_result"
    }
   ],
   "source": [
    "gpa_array.size"
   ]
  },
  {
   "cell_type": "code",
   "execution_count": 8,
   "metadata": {},
   "outputs": [
    {
     "data": {
      "text/plain": [
       "4"
      ]
     },
     "execution_count": 8,
     "metadata": {},
     "output_type": "execute_result"
    }
   ],
   "source": [
    "len(gpa_array)"
   ]
  },
  {
   "cell_type": "code",
   "execution_count": 9,
   "metadata": {},
   "outputs": [
    {
     "data": {
      "text/plain": [
       "32"
      ]
     },
     "execution_count": 9,
     "metadata": {},
     "output_type": "execute_result"
    }
   ],
   "source": [
    "gpa_array.nbytes"
   ]
  },
  {
   "cell_type": "markdown",
   "metadata": {},
   "source": [
    "What is `gpa_array.nbytes`?\n",
    "\n",
    "    `gpa_array.nbytes` is simply a product:\n",
    "    \n",
    "    `len(gpa_array) * gpa_array.itemsize`"
   ]
  },
  {
   "cell_type": "markdown",
   "metadata": {},
   "source": [
    "## conceptual notes\n",
    "\n",
    "two key characteristics of a NumPy array:\n",
    "\n",
    "- the array data is **restricted**; the datatype of the elements must be uniform\n",
    "\n",
    "- the array length is immutable:\n",
    "\n",
    "    - length must be pre-defined \n",
    "\n",
    "    - elements can neither be removed nor inserted\n",
    "    \n",
    "    - elements can be changed\n",
    "\n",
    "REF: [Datatypes (SciPy)](https://docs.scipy.org/doc/numpy/user/basics.types.html)"
   ]
  },
  {
   "cell_type": "markdown",
   "metadata": {},
   "source": [
    "### comparison of NumPy Arrays to Python Lists\n",
    "\n",
    "There is a trade-off that exists, between seamless efforts of constructing and manipulating iterables, vs computation speed \n",
    "\n",
    "- A List has lots of Python behind-the-scene operations, that we've been *taking for granted*\n",
    "\n",
    "    - storing one List's elements into a memory address\n",
    "    \n",
    "    - immutable properties: insert, append, pop; varying size of elements; indexing/iterating through\n",
    "\n",
    "    - result of these behind-the-scene operations: lots of overhead \n",
    "\n",
    "- NumPy Array\n",
    "\n",
    "    - Each element is stored contiguously, with no space between them\n",
    "\n",
    "        - makes retrieving each element a very easy math equation\n",
    "\n",
    "* All of an array's elements must be of the same [data type](https://docs.scipy.org/doc/numpy-1.14.0/user/basics.types.html).\n",
    "\n",
    "- **slicing**: slicing a List vs slicing an Array:\n",
    "\n",
    "    - `copied = List[:]`  # successful copy\n",
    "    \n",
    "    - `not_copied = nparray[:]`  # NOT a copy -- this is a view of the same memory address as the nparray\n",
    "    \n",
    "    "
   ]
  },
  {
   "cell_type": "markdown",
   "metadata": {},
   "source": [
    "### About data types\n",
    "\n",
    "ages = np.array([29, 42, 6, 3], np.uint8)\n",
    "\n",
    "(np.uint16 also works)\n",
    "\n",
    "* By choosing the proper [data type](https://docs.scipy.org/doc/numpy-1.14.0/user/basics.types.html) you can greatly reduce the size required to store objects\n",
    "* Data types are maintained by wrapping values in a [scalar representation](https://docs.scipy.org/doc/numpy-1.14.0/reference/arrays.scalars.html)\n",
    "* `np.zeros` is a handy way to create an empty array filled with zeros.\n",
    "\n",
    "Python’s floating-point numbers are usually 64-bit floating-point numbers, nearly equivalent to np.float64\n"
   ]
  },
  {
   "cell_type": "markdown",
   "metadata": {},
   "source": [
    "## *Exercise: Creating the Study Log*"
   ]
  },
  {
   "cell_type": "code",
   "execution_count": 15,
   "metadata": {},
   "outputs": [
    {
     "name": "stdout",
     "output_type": "stream",
     "text": [
      "Variable        Type       Data/Info\n",
      "------------------------------------\n",
      "gpa_array       ndarray    4: 4 elems, type `float64`, 32 bytes\n",
      "gpa_list        list       n=4\n",
      "np              module     <module 'numpy' from '/ho<...>kages/numpy/__init__.py'>\n",
      "study_minutes   ndarray    100: 100 elems, type `uint16`, 200 bytes\n"
     ]
    }
   ],
   "source": [
    "study_minutes = np.zeros(100, np.uint16)\n",
    "\n",
    "# uint16 is this datatype: unsigned integer of 16 bits (0 to 2^16-1, or 65535)\n",
    "\n",
    "# additional info: %whos\n",
    "\n",
    "%whos"
   ]
  },
  {
   "cell_type": "code",
   "execution_count": 14,
   "metadata": {},
   "outputs": [],
   "source": [
    "study_minutes[0] = 150\n",
    "\n",
    "study_minutes[1] = 60\n",
    "\n",
    "study_minutes[2:6] = [80, 60, 30, 90]"
   ]
  },
  {
   "cell_type": "markdown",
   "metadata": {},
   "source": [
    "# Unit 2: Array Organization"
   ]
  },
  {
   "cell_type": "markdown",
   "metadata": {},
   "source": [
    "## Indexing"
   ]
  },
  {
   "cell_type": "code",
   "execution_count": null,
   "metadata": {},
   "outputs": [],
   "source": []
  }
 ],
 "metadata": {
  "kernelspec": {
   "display_name": "Python 3",
   "language": "python",
   "name": "python3"
  },
  "language_info": {
   "codemirror_mode": {
    "name": "ipython",
    "version": 3
   },
   "file_extension": ".py",
   "mimetype": "text/x-python",
   "name": "python",
   "nbconvert_exporter": "python",
   "pygments_lexer": "ipython3",
   "version": "3.6.4"
  }
 },
 "nbformat": 4,
 "nbformat_minor": 2
}
