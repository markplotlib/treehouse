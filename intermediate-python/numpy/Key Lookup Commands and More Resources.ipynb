{
 "cells": [
  {
   "cell_type": "markdown",
   "metadata": {},
   "source": [
    "# Key Lookup Commands"
   ]
  },
  {
   "cell_type": "code",
   "execution_count": null,
   "metadata": {},
   "outputs": [],
   "source": [
    "import numpy as np"
   ]
  },
  {
   "cell_type": "code",
   "execution_count": null,
   "metadata": {},
   "outputs": [],
   "source": [
    "np.lookfor(\"flat\")"
   ]
  },
  {
   "cell_type": "code",
   "execution_count": 4,
   "metadata": {},
   "outputs": [],
   "source": [
    "np.ravel?"
   ]
  },
  {
   "cell_type": "code",
   "execution_count": 2,
   "metadata": {},
   "outputs": [
    {
     "data": {
      "text/plain": [
       "  C_CONTIGUOUS : True\n",
       "  F_CONTIGUOUS : True\n",
       "  OWNDATA : True\n",
       "  WRITEABLE : True\n",
       "  ALIGNED : True\n",
       "  WRITEBACKIFCOPY : False\n",
       "  UPDATEIFCOPY : False"
      ]
     },
     "execution_count": 2,
     "metadata": {},
     "output_type": "execute_result"
    }
   ],
   "source": [
    "practice = np.arange(42)\n",
    "practice.flags  # helpful"
   ]
  },
  {
   "cell_type": "markdown",
   "metadata": {},
   "source": [
    "# More Resources\n",
    "\n",
    "## Introducing Arrays\n",
    "\n",
    "[Datatypes (SciPy)](https://docs.scipy.org/doc/numpy/user/basics.types.html)\n",
    "\n",
    "## Array Organization\n",
    "\n",
    "[SciPy array manipulation](https://docs.scipy.org/doc/numpy-1.15.0/reference/routines.array-manipulation.html?highlight=array%20manipulation)\n",
    "\n",
    "### Indexing\n",
    "\n",
    "[indexing with boolean or mask index arrays](https://docs.scipy.org/doc/numpy-1.14.0/user/basics.indexing.html#boolean-or-mask-index-arrays)\n",
    "\n",
    "[Advanced Indexing](https://docs.scipy.org/doc/numpy/reference/arrays.indexing.html#advanced-indexing)\n",
    "\n",
    "## Array Programming\n",
    "\n",
    "[Statistics NumPy](https://docs.scipy.org/doc/numpy-1.14.1/reference/routines.statistics.html)\n",
    "\n",
    "* **Order statistics**\n",
    "\n",
    "* **Averages and variances**\n",
    "\n",
    "* **Correlating**\n",
    "\n",
    "* **Histograms**\n",
    "\n",
    "Many of these are reduction operations, i.e. array functions specified down a particular axis.\n",
    "\n",
    "[Routines](https://docs.scipy.org/doc/numpy-1.14.1/reference/routines.html)\n",
    "\n",
    "* **DFTs**\n",
    "\n",
    "* **Linear Algebra**\n",
    "\n",
    "* **Financial functions**\n",
    "\n",
    "* **I/O**\n",
    "\n",
    "* **Polynomials**\n"
   ]
  }
 ],
 "metadata": {
  "kernelspec": {
   "display_name": "Python 3",
   "language": "python",
   "name": "python3"
  },
  "language_info": {
   "codemirror_mode": {
    "name": "ipython",
    "version": 3
   },
   "file_extension": ".py",
   "mimetype": "text/x-python",
   "name": "python",
   "nbconvert_exporter": "python",
   "pygments_lexer": "ipython3",
   "version": "3.6.4"
  }
 },
 "nbformat": 4,
 "nbformat_minor": 2
}
