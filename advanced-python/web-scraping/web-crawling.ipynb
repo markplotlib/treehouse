{
 "cells": [
  {
   "cell_type": "markdown",
   "metadata": {},
   "source": [
    "# Conceptual Framework\n",
    "\n",
    "separate links into Internal and External links\n",
    "\n",
    "Ignore duplicate links\n",
    "\n"
   ]
  },
  {
   "cell_type": "code",
   "execution_count": 13,
   "metadata": {
    "collapsed": true
   },
   "outputs": [
    {
     "data": {
      "text/plain": [
       "[<p>A list of horses from A to Z</p>,\n",
       " <p class=\"bold\">Mustang</p>,\n",
       " <p>This month, we're featuring the mustang, a free-roaming horse of the American west that first descended from\n",
       "           horses brought to the Americas by the Spanish. Here are five beach loving wild Spanish Mustangs in Corolla,\n",
       "           North Carolina.</p>,\n",
       " <p class=\"credits\">Text and horse breed photos from <a href=\"https://commons.wikimedia.org/wiki/Horse_breeds\" target=\"_blank\">Wimimedia Commons - Horse Breeds</a> under a\n",
       "       <a href=\"https://creativecommons.org/licenses/by-sa/3.0/\" target=\"_blank\">Creative Commons Attribution-ShareAlike\n",
       "         3.0 Unported License</a>.\n",
       " \n",
       "     <script src=\"https://cdnjs.cloudflare.com/ajax/libs/jquery/3.2.1/jquery.min.js\"></script>\n",
       " <script src=\"js/index.js\"></script>\n",
       " </p>]"
      ]
     },
     "execution_count": 13,
     "metadata": {},
     "output_type": "execute_result"
    }
   ],
   "source": [
    "from urllib.request import urlopen\n",
    "from bs4 import BeautifulSoup\n",
    "import re\n",
    "\n",
    "html = urlopen('https://treehouse-projects.github.io/horse-land/index.html')\n",
    "soup = BeautifulSoup(html.read(), 'html.parser')\n",
    "\n",
    "list_p_tags = soup.find_all('p')\n",
    "list_p_tags"
   ]
  },
  {
   "cell_type": "code",
   "execution_count": 14,
   "metadata": {},
   "outputs": [
    {
     "name": "stdout",
     "output_type": "stream",
     "text": [
      "mustang.html\n",
      "https://en.wikipedia.org/wiki/Horse\n",
      "https://commons.wikimedia.org/wiki/Horse_breeds\n",
      "https://commons.wikimedia.org/wiki/Horse_breeds\n",
      "https://creativecommons.org/licenses/by-sa/3.0/\n"
     ]
    }
   ],
   "source": [
    "for link in soup.find_all('a'):\n",
    "    print(link.get('href'))"
   ]
  },
  {
   "cell_type": "code",
   "execution_count": 15,
   "metadata": {},
   "outputs": [],
   "source": [
    "site_links = []"
   ]
  },
  {
   "cell_type": "markdown",
   "metadata": {},
   "source": [
    "Here's a function that will receive a website's internal link and parse the html on that page."
   ]
  },
  {
   "cell_type": "code",
   "execution_count": 16,
   "metadata": {},
   "outputs": [],
   "source": [
    "def internal_links(linkURL):\n",
    "    html = urlopen('https://treehouse-projects.github.io/horse-land/{}'.format(linkURL))\n",
    "    soup = BeautifulSoup(html, 'html.parser')\n",
    "    return soup.find('a', href=re.compile('(.html)$'))  # anchor tags"
   ]
  },
  {
   "cell_type": "code",
   "execution_count": 17,
   "metadata": {},
   "outputs": [
    {
     "name": "stdout",
     "output_type": "stream",
     "text": [
      "mustang.html\n",
      "\n",
      "=============\n",
      "\n",
      "index.html\n",
      "\n",
      "=============\n",
      "\n"
     ]
    }
   ],
   "source": [
    "if __name__ == '__main__':\n",
    "    urls = internal_links(\"index.html\")\n",
    "\n",
    "    while len(urls) > 0:\n",
    "        page = urls.attrs['href']\n",
    "        if page not in site_links:\n",
    "            site_links.append(page)\n",
    "\n",
    "            print(page)\n",
    "            print('\\n=============\\n')\n",
    "            urls = internal_links(page)\n",
    "        else:\n",
    "            break"
   ]
  },
  {
   "cell_type": "code",
   "execution_count": null,
   "metadata": {},
   "outputs": [],
   "source": []
  }
 ],
 "metadata": {
  "kernelspec": {
   "display_name": "Python 3",
   "language": "python",
   "name": "python3"
  },
  "language_info": {
   "codemirror_mode": {
    "name": "ipython",
    "version": 3
   },
   "file_extension": ".py",
   "mimetype": "text/x-python",
   "name": "python",
   "nbconvert_exporter": "python",
   "pygments_lexer": "ipython3",
   "version": "3.6.8"
  }
 },
 "nbformat": 4,
 "nbformat_minor": 2
}
