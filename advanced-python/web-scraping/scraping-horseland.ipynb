{
 "cells": [
  {
   "cell_type": "markdown",
   "metadata": {},
   "source": [
    "# Scraping Data from the Web\n",
    "\n",
    "[Beautiful Soup](https://www.crummy.com/software/BeautifulSoup/) web site\n",
    "\n",
    "[target site example: Horse Land](https://treehouse-projects.github.io/horse-land/index.html)"
   ]
  },
  {
   "cell_type": "code",
   "execution_count": 1,
   "metadata": {},
   "outputs": [],
   "source": [
    "from urllib.request import urlopen\n",
    "from bs4 import BeautifulSoup"
   ]
  },
  {
   "cell_type": "code",
   "execution_count": 2,
   "metadata": {},
   "outputs": [
    {
     "name": "stdout",
     "output_type": "stream",
     "text": [
      "<!DOCTYPE html>\n",
      "<html lang=\"en\">\n",
      " <head>\n",
      "  <meta charset=\"utf-8\"/>\n",
      "  <title>\n",
      "   Horse Land\n",
      "  </title>\n",
      "  <link href=\"css/style.css\" rel=\"stylesheet\"/>\n",
      "  <link href=\"https://fonts.googleapis.com/css?family=Lato:400,700|Rye\" rel=\"stylesheet\"/>\n",
      " </head>\n",
      " <body>\n",
      "  <div class=\"sign\">\n",
      "   <h1>\n",
      "    Horse Land\n",
      "   </h1>\n",
      "   <p>\n",
      "    A list of horses from A to Z\n",
      "   </p>\n",
      "  </div>\n",
      "  <div class=\"featured\">\n",
      "   <h2>\n",
      "    Horse of the Month\n",
      "   </h2>\n",
      "   <div class=\"featured-img\">\n",
      "    <img src=\"img/1280px-SpanishMustangsOfCorolla.jpg\"/>\n",
      "   </div>\n",
      "   <div class=\"featured-text\">\n",
      "    <p class=\"bold\">\n",
      "     Mustang\n",
      "    </p>\n",
      "    <p>\n",
      "     This month, we're featuring the mustang, a free-roaming horse of the American west that first descended from\n",
      "          horses brought to the Americas by the Spanish. Here are five beach loving wild Spanish Mustangs in Corolla,\n",
      "          North Carolina.\n",
      "    </p>\n",
      "    <a class=\"button button--primary\" href=\"mustang.html\">\n",
      "     Learn More\n",
      "    </a>\n",
      "   </div>\n",
      "  </div>\n",
      "  <ul class=\"card-wrap\" id=\"imageGallery\">\n",
      "  </ul>\n",
      "  <div class=\"links\">\n",
      "   <h2>\n",
      "    Want to learn even more about horses?\n",
      "   </h2>\n",
      "   <a class=\"button button--secondary\" href=\"https://en.wikipedia.org/wiki/Horse\" target=\"_blank\">\n",
      "    Horses on\n",
      "        Wikipedia\n",
      "   </a>\n",
      "   <a class=\"button button--secondary\" href=\"https://commons.wikimedia.org/wiki/Horse_breeds\" target=\"_blank\">\n",
      "    Horse\n",
      "        Breeds\n",
      "   </a>\n",
      "  </div>\n",
      "  <p class=\"credits\">\n",
      "   Text and horse breed photos from\n",
      "   <a href=\"https://commons.wikimedia.org/wiki/Horse_breeds\" target=\"_blank\">\n",
      "    Wimimedia Commons - Horse Breeds\n",
      "   </a>\n",
      "   under a\n",
      "   <a href=\"https://creativecommons.org/licenses/by-sa/3.0/\" target=\"_blank\">\n",
      "    Creative Commons Attribution-ShareAlike\n",
      "        3.0 Unported License\n",
      "   </a>\n",
      "   .\n",
      "   <script src=\"https://cdnjs.cloudflare.com/ajax/libs/jquery/3.2.1/jquery.min.js\">\n",
      "   </script>\n",
      "   <script src=\"js/index.js\">\n",
      "   </script>\n",
      "  </p>\n",
      " </body>\n",
      "</html>\n",
      "\n"
     ]
    }
   ],
   "source": [
    "html = urlopen('https://treehouse-projects.github.io/horse-land/index.html')\n",
    "soup = BeautifulSoup(html.read(), 'html.parser')\n",
    "\n",
    "# print(soup)\n",
    "# this will print, but let's make the indentations display neatly \n",
    "\n",
    "print(soup.prettify())"
   ]
  },
  {
   "cell_type": "markdown",
   "metadata": {},
   "source": [
    "### things to notes\n",
    "\n",
    "In the unordered list, `<ul class=\"card-wrap\" id=\"imageGallery\">`,\n",
    "\n",
    "the ID of `imageGallery` appears, even though the images don't.\n",
    "\n",
    "**Reason:** This is because *BeautifulSoup doesn't wait for JavaScript to run* before it scrapes the page.  (Later on, we see how to handle it.)"
   ]
  },
  {
   "cell_type": "markdown",
   "metadata": {},
   "source": [
    "### other BeautifulSoup features"
   ]
  },
  {
   "cell_type": "code",
   "execution_count": 3,
   "metadata": {},
   "outputs": [
    {
     "name": "stdout",
     "output_type": "stream",
     "text": [
      "<title>Horse Land</title>\n"
     ]
    }
   ],
   "source": [
    "print(soup.title)"
   ]
  },
  {
   "cell_type": "code",
   "execution_count": 4,
   "metadata": {},
   "outputs": [
    {
     "name": "stdout",
     "output_type": "stream",
     "text": [
      "<div class=\"sign\">\n",
      "<h1>Horse Land</h1>\n",
      "<p>A list of horses from A to Z</p>\n",
      "</div>\n"
     ]
    }
   ],
   "source": [
    "print(soup.div)  # only the first div"
   ]
  },
  {
   "cell_type": "markdown",
   "metadata": {},
   "source": [
    "# `find()` and `find_all()`\n",
    "\n",
    "Let's look at two Beautiful Soup methods, `find()` and `find_all()`, in greater detail."
   ]
  },
  {
   "cell_type": "code",
   "execution_count": 5,
   "metadata": {
    "collapsed": true
   },
   "outputs": [
    {
     "name": "stdout",
     "output_type": "stream",
     "text": [
      "<div class=\"sign\">\n",
      "<h1>Horse Land</h1>\n",
      "<p>A list of horses from A to Z</p>\n",
      "</div>\n",
      "<div class=\"featured\">\n",
      "<h2>Horse of the Month</h2>\n",
      "<div class=\"featured-img\">\n",
      "<img src=\"img/1280px-SpanishMustangsOfCorolla.jpg\"/>\n",
      "</div>\n",
      "<div class=\"featured-text\">\n",
      "<p class=\"bold\">Mustang</p>\n",
      "<p>This month, we're featuring the mustang, a free-roaming horse of the American west that first descended from\n",
      "          horses brought to the Americas by the Spanish. Here are five beach loving wild Spanish Mustangs in Corolla,\n",
      "          North Carolina.</p>\n",
      "<a class=\"button button--primary\" href=\"mustang.html\">Learn More</a>\n",
      "</div>\n",
      "</div>\n",
      "<div class=\"featured-img\">\n",
      "<img src=\"img/1280px-SpanishMustangsOfCorolla.jpg\"/>\n",
      "</div>\n",
      "<div class=\"featured-text\">\n",
      "<p class=\"bold\">Mustang</p>\n",
      "<p>This month, we're featuring the mustang, a free-roaming horse of the American west that first descended from\n",
      "          horses brought to the Americas by the Spanish. Here are five beach loving wild Spanish Mustangs in Corolla,\n",
      "          North Carolina.</p>\n",
      "<a class=\"button button--primary\" href=\"mustang.html\">Learn More</a>\n",
      "</div>\n",
      "<div class=\"links\">\n",
      "<h2>Want to learn even more about horses?</h2>\n",
      "<a class=\"button button--secondary\" href=\"https://en.wikipedia.org/wiki/Horse\" target=\"_blank\">Horses on\n",
      "        Wikipedia</a>\n",
      "<a class=\"button button--secondary\" href=\"https://commons.wikimedia.org/wiki/Horse_breeds\" target=\"_blank\">Horse\n",
      "        Breeds</a>\n",
      "</div>\n"
     ]
    }
   ],
   "source": [
    "# all divs\n",
    "divs = soup.find_all('div')\n",
    "for div in divs:\n",
    "    print(div)"
   ]
  },
  {
   "cell_type": "markdown",
   "metadata": {},
   "source": [
    "What if we want a particular div, such as the divs with the *featured* class name?\n",
    "\n",
    "`<div class=\"featured\">...</div>`"
   ]
  },
  {
   "cell_type": "code",
   "execution_count": 6,
   "metadata": {},
   "outputs": [
    {
     "name": "stdout",
     "output_type": "stream",
     "text": [
      "<div class=\"featured\">\n",
      "<h2>Horse of the Month</h2>\n",
      "<div class=\"featured-img\">\n",
      "<img src=\"img/1280px-SpanishMustangsOfCorolla.jpg\"/>\n",
      "</div>\n",
      "<div class=\"featured-text\">\n",
      "<p class=\"bold\">Mustang</p>\n",
      "<p>This month, we're featuring the mustang, a free-roaming horse of the American west that first descended from\n",
      "          horses brought to the Americas by the Spanish. Here are five beach loving wild Spanish Mustangs in Corolla,\n",
      "          North Carolina.</p>\n",
      "<a class=\"button button--primary\" href=\"mustang.html\">Learn More</a>\n",
      "</div>\n",
      "</div>\n"
     ]
    }
   ],
   "source": [
    "divs = soup.find_all('div', {'class': 'featured'})\n",
    "for div in divs:\n",
    "    print(div)"
   ]
  },
  {
   "cell_type": "code",
   "execution_count": 10,
   "metadata": {},
   "outputs": [
    {
     "name": "stdout",
     "output_type": "stream",
     "text": [
      "<h2>Horse of the Month</h2>\n"
     ]
    }
   ],
   "source": [
    "featured_header_h2 = soup.find('div', {\"class\": \"featured\"}).h2\n",
    "\n",
    "print(featured_header_h2)"
   ]
  },
  {
   "cell_type": "code",
   "execution_count": 9,
   "metadata": {},
   "outputs": [
    {
     "name": "stdout",
     "output_type": "stream",
     "text": [
      "<div class=\"featured\">\n",
      "<h2>Horse of the Month</h2>\n",
      "<div class=\"featured-img\">\n",
      "<img src=\"img/1280px-SpanishMustangsOfCorolla.jpg\"/>\n",
      "</div>\n",
      "<div class=\"featured-text\">\n",
      "<p class=\"bold\">Mustang</p>\n",
      "<p>This month, we're featuring the mustang, a free-roaming horse of the American west that first descended from\n",
      "          horses brought to the Americas by the Spanish. Here are five beach loving wild Spanish Mustangs in Corolla,\n",
      "          North Carolina.</p>\n",
      "<a class=\"button button--primary\" href=\"mustang.html\">Learn More</a>\n",
      "</div>\n",
      "</div>\n"
     ]
    }
   ],
   "source": [
    "featured_header = soup.find('div', {\"class\": \"featured\"})\n",
    "\n",
    "print(featured_header)"
   ]
  },
  {
   "cell_type": "markdown",
   "metadata": {},
   "source": [
    "## `get_text()`\n",
    "\n",
    "Use `get_text()` as the **last step** in the scraping process."
   ]
  },
  {
   "cell_type": "code",
   "execution_count": 13,
   "metadata": {},
   "outputs": [
    {
     "name": "stdout",
     "output_type": "stream",
     "text": [
      "Horse of the Month\n"
     ]
    }
   ],
   "source": [
    "print(featured_header_h2.get_text())"
   ]
  },
  {
   "cell_type": "code",
   "execution_count": 14,
   "metadata": {},
   "outputs": [
    {
     "name": "stdout",
     "output_type": "stream",
     "text": [
      "\n",
      "Horse of the Month\n",
      "\n",
      "\n",
      "\n",
      "\n",
      "Mustang\n",
      "This month, we're featuring the mustang, a free-roaming horse of the American west that first descended from\n",
      "          horses brought to the Americas by the Spanish. Here are five beach loving wild Spanish Mustangs in Corolla,\n",
      "          North Carolina.\n",
      "Learn More\n",
      "\n",
      "\n"
     ]
    }
   ],
   "source": [
    "print(featured_header.get_text())"
   ]
  },
  {
   "cell_type": "markdown",
   "metadata": {},
   "source": [
    "## parameters"
   ]
  },
  {
   "cell_type": "markdown",
   "metadata": {},
   "source": [
    "```\n",
    "name\n",
    "\n",
    "attrs\n",
    "\n",
    "recursive\n",
    "\n",
    "string\n",
    "```"
   ]
  },
  {
   "cell_type": "markdown",
   "metadata": {},
   "source": [
    "## Exercise: find buttons\n",
    "\n",
    "Use `attrs` argument to search for the CSS class and print out all references to the *primary button* class (the *Learn More* button)."
   ]
  },
  {
   "cell_type": "code",
   "execution_count": 15,
   "metadata": {},
   "outputs": [
    {
     "name": "stdout",
     "output_type": "stream",
     "text": [
      "Learn More\n"
     ]
    }
   ],
   "source": [
    "for button in soup.find(attrs={\"class\": \"button button--primary\"}):\n",
    "    print(button)"
   ]
  },
  {
   "cell_type": "markdown",
   "metadata": {},
   "source": [
    "Perform the same thing, but with the `class_` reserved word in `BeautifulSoup`"
   ]
  },
  {
   "cell_type": "code",
   "execution_count": 17,
   "metadata": {},
   "outputs": [
    {
     "name": "stdout",
     "output_type": "stream",
     "text": [
      "Learn More\n"
     ]
    }
   ],
   "source": [
    "for button in soup.find(class_=\"button button--primary\"):\n",
    "    print(button)"
   ]
  },
  {
   "cell_type": "markdown",
   "metadata": {},
   "source": [
    "## Get all links (internal and external)"
   ]
  },
  {
   "cell_type": "code",
   "execution_count": 21,
   "metadata": {},
   "outputs": [
    {
     "name": "stdout",
     "output_type": "stream",
     "text": [
      "mustang.html\n",
      "https://en.wikipedia.org/wiki/Horse\n",
      "https://commons.wikimedia.org/wiki/Horse_breeds\n",
      "https://commons.wikimedia.org/wiki/Horse_breeds\n",
      "https://creativecommons.org/licenses/by-sa/3.0/\n"
     ]
    }
   ],
   "source": [
    "for link in soup.find_all('a'):\n",
    "    print(link.get('href'))"
   ]
  },
  {
   "cell_type": "markdown",
   "metadata": {},
   "source": [
    "# Web Scraping: legal concerns\n",
    "\n",
    "Web Scraping Legal Claims (USA):\n",
    "\n",
    "copyright infringement\n",
    "\n",
    "Computer Fraud and Abuse Act (CFAA)\n",
    "\n",
    "- The CFAA prohibits accessing a computer without, or in excess of, authorization.\n",
    "\n",
    "### robots.txt\n",
    "\n",
    "Many sites have a [robots.txt](https://en.wikipedia.org/wiki/Robots_exclusion_standard#Examples) file where limits can be set as to where bots can go.\n"
   ]
  },
  {
   "cell_type": "code",
   "execution_count": null,
   "metadata": {},
   "outputs": [],
   "source": []
  }
 ],
 "metadata": {
  "kernelspec": {
   "display_name": "Python 3",
   "language": "python",
   "name": "python3"
  },
  "language_info": {
   "codemirror_mode": {
    "name": "ipython",
    "version": 3
   },
   "file_extension": ".py",
   "mimetype": "text/x-python",
   "name": "python",
   "nbconvert_exporter": "python",
   "pygments_lexer": "ipython3",
   "version": "3.6.8"
  }
 },
 "nbformat": 4,
 "nbformat_minor": 2
}
